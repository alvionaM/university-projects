{
 "cells": [
  {
   "cell_type": "markdown",
   "metadata": {},
   "source": [
    "# Applied Probability and Randomized Algorithms: Coin flip simulations\n",
    "\n",
    "Alviona Mancho | p3200098@aueb.gr"
   ]
  },
  {
   "cell_type": "markdown",
   "metadata": {},
   "source": [
    "## Preliminaries"
   ]
  },
  {
   "cell_type": "code",
   "execution_count": 1,
   "metadata": {},
   "outputs": [],
   "source": [
    "import random\n",
    "from collections import Counter\n",
    "import doctest"
   ]
  },
  {
   "cell_type": "code",
   "execution_count": 2,
   "metadata": {},
   "outputs": [],
   "source": [
    "def print_message(prob_str, expected_val, actual_val):\n",
    "    print(\"Expected {0}={1:.2f} \\t Actual {0}={2:.2f}\".format(prob_str, expected_val, actual_val))"
   ]
  },
  {
   "cell_type": "markdown",
   "metadata": {},
   "source": [
    "## Task 1. A single fair coin: $Pr(Head) = 0.5$"
   ]
  },
  {
   "cell_type": "markdown",
   "metadata": {},
   "source": [
    "### Definitions"
   ]
  },
  {
   "cell_type": "markdown",
   "metadata": {},
   "source": [
    "- Bernoulli distribution is the discrete probability distribution of a random variable which takes the value $1$ with probability $p$ and $0$ with probability $1-p$. \n",
    "- We can denote value 1 as 'success' and 0 as 'failure'.\n",
    "- To simulate a random variable $X$ ~ $Bern(p)$ we can generate a random number in the interval $[0,1)$; if the number turns out to be $<p$ then set the outcome $1$, else set it $0$. "
   ]
  },
  {
   "cell_type": "code",
   "execution_count": 3,
   "metadata": {},
   "outputs": [],
   "source": [
    "def bernoulli_sample(p, n):\n",
    "    \"\"\"Returns a sample where each instance ~ Bernoulli(p). The sample is constructed as a list of size n\"\"\"\n",
    "\n",
    "    sample = [1 if random.random() < p else 0 for i in range(n)]\n",
    "    return sample"
   ]
  },
  {
   "cell_type": "markdown",
   "metadata": {},
   "source": [
    "Given a sample:\n",
    "- $Pr(Success)  = Pr(X=1) = \\frac{\\#successes}{|sample|}$\n",
    "- $Pr(Failure) = Pr(X=0) = \\frac{\\#failures}{|sample|} = 1 - Pr(success)$"
   ]
  },
  {
   "cell_type": "code",
   "execution_count": 4,
   "metadata": {},
   "outputs": [],
   "source": [
    "def prob_success_failure(sample):\n",
    "    \"\"\"Returns the probability of success (1) and failure (0) in a Bernoulli sample: P(i=1), P(i=0)\n",
    "\n",
    "    >>> sample = [1,0,1,0,0,0,1,1,0,1]\n",
    "    >>> prob_success_failure(sample)\n",
    "    (0.5, 0.5)\n",
    "\n",
    "    >>> sample = [0,0,0,1,0,1,1,1,1,1]\n",
    "    >>> prob_success_failure(sample)\n",
    "    (0.6, 0.4)\n",
    "    \"\"\"\n",
    "\n",
    "    size = len(sample)\n",
    "    successes = sum(sample)\n",
    "    failures = size - successes\n",
    "    return successes/size, failures/size"
   ]
  },
  {
   "cell_type": "markdown",
   "metadata": {},
   "source": [
    "Given a sample (a sequence of outcomes):\n",
    "- $Pr(Success | Previously \\; Success) = \\frac{Pr (Success \\,\\cap\\, Previously \\,Success)}{Pr (Previously\\, Success)} = \\frac{\\# success \\,\\&\\, previously \\,success}{\\# previously \\,success}$\n",
    "- Likewise for $Pr(Success | Previously \\,Failure)$"
   ]
  },
  {
   "cell_type": "code",
   "execution_count": 5,
   "metadata": {},
   "outputs": [],
   "source": [
    "def cond_prob_success(sample):\n",
    "    \"\"\"Returns the conditional probability of success given the class of the previous instance (success or failure) in a Bernoulli sample: \n",
    "    P(current=1 | previous=1), P(current=1 | previous=0)\n",
    "    \n",
    "    >>> sample = [1,0,1,0,0,0,1,1,0,1]\n",
    "    >>> cond_prob_success(sample)\n",
    "    (0.25, 0.6)\n",
    "\n",
    "    >>> sample = [0,0,0,1,0,1,1,1,1,1]\n",
    "    >>> cond_prob_success(sample)\n",
    "    (0.8, 0.5)\n",
    "    \"\"\"\n",
    "    \n",
    "    x = sum(map(lambda i: i[0]==1 and i[1]==1, zip(sample[1:], sample)))                #num of outcomes where current=1, previous=1\n",
    "    y = sum(map(lambda i: i==1, sample[:-1]))                                           #num of outcomes where previous=1\n",
    "    cond_prob_succ_prev_succ = x/y                                                      #P(current=1 | previous=1)\n",
    "\n",
    "    x = sum(map(lambda i: i[0]==1 and i[1]==0, zip(sample[1:], sample)))                #num of outcomes where current=1, previous=0\n",
    "    y = sum(map(lambda i: i==0, sample[:-1]))                                           #num of outcomes where previous=0\n",
    "    cond_prob_succ_prev_fail = x/y                                                      #P(current=1 | previous=0)\n",
    "\n",
    "    return cond_prob_succ_prev_succ, cond_prob_succ_prev_fail"
   ]
  },
  {
   "cell_type": "markdown",
   "metadata": {},
   "source": [
    "Given a sample (a sequence of outcomes) of length $2n$, we can consider the sequence as a sequence of $n$ pairs e.g. $(1,1)$ for $(Success, Success)$.\n",
    "- We can, thus, calculate the probability of each possible pair of outcomes: $(1,1)$, $(1,0)$, $(0,1)$, $(0,0)$"
   ]
  },
  {
   "cell_type": "code",
   "execution_count": 6,
   "metadata": {},
   "outputs": [],
   "source": [
    "def prob_pairs(sample):\n",
    "    \"\"\"Returns the probability of each possible pair of success (1) and failure (0) in a Bernoulli sample: P(i=1, j=1), P(i=1, j=0), P(i=0, j=1), P(i=0, j=0)\n",
    "    \n",
    "    >>> sample = [1,0,1,0,0,0,1,1,0,1]\n",
    "    >>> prob_pairs(sample)\n",
    "    (0.2, 0.4, 0.2, 0.2)\n",
    "\n",
    "    >>> sample = [0,0,0,1,0,1,1,1,1,1]\n",
    "    >>> prob_pairs(sample)\n",
    "    (0.4, 0.0, 0.4, 0.2)\n",
    "    \"\"\"\n",
    "\n",
    "    size = len(sample)/2\n",
    "    counts = Counter(zip(sample[0::2], sample[1::2]))   #view the sample as pairs of outcomes (using zip) and calculate the frequency of each possible pair\n",
    "    \n",
    "    succ_succ = counts[(1,1)]                           #num of (success, success)-pair outcomes                 \n",
    "    succ_fail = counts[(1,0)]                           #num of (success, failure)-pair outcomes\n",
    "    fail_succ = counts[(0,1)]                           #num of (failure, success)-pair outcomes\n",
    "    fail_fail = counts[(0,0)]                           #num of (failure, failure)-pair outcomes\n",
    "    \n",
    "    prob_succ_succ = succ_succ/size\n",
    "    prob_succ_fail = succ_fail/size\n",
    "    prob_fail_succ = fail_succ/size\n",
    "    prob_fail_fail = fail_fail/size\n",
    "\n",
    "    return prob_succ_succ, prob_succ_fail, prob_fail_succ, prob_fail_fail"
   ]
  },
  {
   "cell_type": "markdown",
   "metadata": {},
   "source": [
    "- We can, also, calculate conditional probabilities as before:"
   ]
  },
  {
   "cell_type": "code",
   "execution_count": 7,
   "metadata": {},
   "outputs": [],
   "source": [
    "def cond_prob_pairs(sample):\n",
    "    \"\"\"Returns the conditional probability of each possible pair of outcomes consisting of instances of different classes (success (1) and failure (0)), given that their class is different: P(i=1, j=0 | i!=j), P(i=0, j=1 | i!=j)\n",
    "    \n",
    "    >>> sample = [1,0,1,0,0,1,1,1,0,1]\n",
    "    >>> cond_prob_pairs(sample)\n",
    "    (0.5, 0.5)\n",
    "\n",
    "    >>> sample = [0,0,0,1,0,1,1,1,1,1]\n",
    "    >>> cond_prob_pairs(sample)\n",
    "    (0.0, 1.0)\n",
    "    \"\"\"\n",
    "    \n",
    "    x1 = sum(map(lambda i: i[0]==1 and i[1]==0, zip(sample[0::2], sample[1::2])))    #num of (success, failure)-pair outcomes\n",
    "    x2 = sum(map(lambda i: i[0]==0 and i[1]==1, zip(sample[0::2], sample[1::2])))    #num of (failure, success)-pair outcomes\n",
    "    y = x1+x2                                                                        #num of pairs consisting of instances of different classes = num (success, failure) + num (failure, success)\n",
    "    cond_prob_succ_fail = x1/y                                                       #P(i=1, j=0 | i!=j)\n",
    "    cond_prob_fail_succ = x2/y                                                       #P(i=0, j=1 | i!=j)\n",
    "    return cond_prob_succ_fail, cond_prob_fail_succ"
   ]
  },
  {
   "cell_type": "markdown",
   "metadata": {},
   "source": [
    "### Simulation"
   ]
  },
  {
   "cell_type": "markdown",
   "metadata": {},
   "source": [
    "We can now simulate a (fair) coin flip as a random variable $X$ ~ $Bern(0.5)$ where $1$ denotes $Heads$ and $0$ denotes $Tails$. We are going to perform 1000 such flips and use this sample to calculate some actual probabilities (i.e. regarding the sample) and compare those to the respective theoretical probabilities.\n",
    "\n",
    "- Note that the expected (theoretical) probabilities used for the comparisons are as follows:\n",
    "    - $Pr(Head) = 0.5$, $Pr(Tail) = 0.5$\n",
    "\n",
    "    - $Pr(Head | Previously \\, Head) = 0.5$ due to assumption of independence. Same holds for $Pr(Head | Previously \\, Tail)$\n",
    "\n",
    "    - $Pr(Head, Head) = Pr(Head)*Pr(Head) = 0.5^{2} = 0.25$ etc. due to assumption of independence\n",
    "\n",
    "    - $Pr(x \\,Heads\\, in\\, a\\, pair\\, of\\, 2\\, flips) = {2 \\choose x} * (0.5)^{x} * (0.5)^{2-x}$ for $x \\in \\{0,1,2\\} $\n",
    "    \n",
    "    - $Pr(Head, Tail | Different \\, instances) = \\frac{Pr((Head, Tail) \\,\\cap\\, Different \\,instances)}{Pr(Different \\,instances)} = \\frac{Pr(Head, Tail)}{Pr(Different \\,instances)} = \\frac{0.5*0.5}{2*0.5*0.5} = 0.5$. \n",
    "    Same holds for $Pr(Tail, Head | Different \\, instances)$\n",
    "\n",
    "Below we also simulate an unfair coin flip as a random variable $X$ ~ $Bern(0.25)$. We repeat all the above calculations for this new (unfair) coin and make similar comparisons to the respective theoretical probabilities. Note that the expected (theoretical) probabilities used for the comparisons are calculated as shown above (but now $p=0.25$)"
   ]
  },
  {
   "cell_type": "code",
   "execution_count": 16,
   "metadata": {},
   "outputs": [
    {
     "name": "stdout",
     "output_type": "stream",
     "text": [
      "\n",
      "> Report: p=0.5\n",
      "A.\n",
      "Expected Pr(Head)=0.50 \t Actual Pr(Head)=0.48\n",
      "Expected Pr(Tail)=0.50 \t Actual Pr(Tail)=0.52\n",
      "\n",
      "Expected Pr(Head|Prev Head)=0.50 \t Actual Pr(Head|Prev Head)=0.50\n",
      "Expected Pr(Head|Prev Tail)=0.50 \t Actual Pr(Head|Prev Tail)=0.46\n",
      "\n",
      "B.\n",
      "Expected Pr(Head, Head)=0.25 \t Actual Pr(Head, Head)=0.25\n",
      "Expected Pr(Head, Tail)=0.25 \t Actual Pr(Head, Tail)=0.22\n",
      "Expected Pr(Tail, Head)=0.25 \t Actual Pr(Tail, Head)=0.25\n",
      "Expected Pr(Tail, Tail)=0.25 \t Actual Pr(Tail, Tail)=0.28\n",
      "\n",
      "Expected Pr(0 Heads)=0.25 \t Actual Pr(0 Heads)=0.28\n",
      "Expected Pr(1 Heads)=0.50 \t Actual Pr(1 Heads)=0.47\n",
      "Expected Pr(2 Heads)=0.25 \t Actual Pr(2 Heads)=0.25\n",
      "\n",
      "C.\n",
      "Expected Pr(Head, Tail|Different instances)=0.50 \t Actual Pr(Head, Tail|Different instances)=0.48\n",
      "Expected Pr(Tail, Head|Different instances)=0.50 \t Actual Pr(Tail, Head|Different instances)=0.52\n",
      "\n",
      "> Report: p=0.25\n",
      "A.\n",
      "Expected Pr(Head)=0.25 \t Actual Pr(Head)=0.24\n",
      "Expected Pr(Tail)=0.75 \t Actual Pr(Tail)=0.76\n",
      "\n",
      "Expected Pr(Head|Prev Head)=0.25 \t Actual Pr(Head|Prev Head)=0.24\n",
      "Expected Pr(Head|Prev Tail)=0.25 \t Actual Pr(Head|Prev Tail)=0.25\n",
      "\n",
      "B.\n",
      "Expected Pr(Head, Head)=0.06 \t Actual Pr(Head, Head)=0.06\n",
      "Expected Pr(Head, Tail)=0.19 \t Actual Pr(Head, Tail)=0.18\n",
      "Expected Pr(Tail, Head)=0.19 \t Actual Pr(Tail, Head)=0.19\n",
      "Expected Pr(Tail, Tail)=0.56 \t Actual Pr(Tail, Tail)=0.57\n",
      "\n",
      "Expected Pr(0 Heads)=0.56 \t Actual Pr(0 Heads)=0.57\n",
      "Expected Pr(1 Heads)=0.38 \t Actual Pr(1 Heads)=0.37\n",
      "Expected Pr(2 Heads)=0.06 \t Actual Pr(2 Heads)=0.06\n",
      "\n",
      "C.\n",
      "Expected Pr(Head, Tail|Different instances)=0.50 \t Actual Pr(Head, Tail|Different instances)=0.48\n",
      "Expected Pr(Tail, Head|Different instances)=0.50 \t Actual Pr(Tail, Head|Different instances)=0.52\n"
     ]
    }
   ],
   "source": [
    "probs = [0.5, 0.25]\n",
    "n = 1000\n",
    "\n",
    "for p in probs:\n",
    "    sample = bernoulli_sample(p, n)\n",
    "\n",
    "    prob_head, prob_tail = prob_success_failure(sample)\n",
    "\n",
    "    cond_prob_head_given_prev_head, cond_prob_head_given_prev_tail = cond_prob_success(sample)\n",
    "\n",
    "    prob_head_head, prob_head_tail, prob_tail_head, prob_tail_tail = prob_pairs(sample)\n",
    "    prob_one_head = prob_head_tail + prob_tail_head\n",
    "    prob_two_heads = prob_head_head\n",
    "    prob_zero_heads = 1 - (prob_one_head + prob_two_heads)\n",
    "\n",
    "    cond_prob_head_tail, cond_prob_tail_head = cond_prob_pairs(sample)\n",
    "\n",
    "    print()\n",
    "    print(\"> Report: p={0}\".format(p))\n",
    "\n",
    "    print(\"A.\")\n",
    "    print_message(\"Pr(Head)\", p, prob_head)\n",
    "    print_message(\"Pr(Tail)\", 1-p, prob_tail)\n",
    "\n",
    "    print()\n",
    "\n",
    "    print_message(\"Pr(Head|Prev Head)\", p, cond_prob_head_given_prev_head)\n",
    "    print_message(\"Pr(Head|Prev Tail)\", p, cond_prob_head_given_prev_tail)\n",
    "\n",
    "    print(\"\\nB.\")\n",
    "\n",
    "    print_message(\"Pr(Head, Head)\", p**2, prob_head_head)\n",
    "    print_message(\"Pr(Head, Tail)\", p*(1-p), prob_head_tail)\n",
    "    print_message(\"Pr(Tail, Head)\", (1-p)*p, prob_tail_head)\n",
    "    print_message(\"Pr(Tail, Tail)\", (1-p)**2, prob_tail_tail)\n",
    "\n",
    "    print()\n",
    "\n",
    "    print_message(\"Pr(0 Heads)\", (1-p)**2, prob_zero_heads)\n",
    "    print_message(\"Pr(1 Heads)\", 2*p*(1-p), prob_one_head)\n",
    "    print_message(\"Pr(2 Heads)\", p**2, prob_two_heads)\n",
    "\n",
    "    print(\"\\nC.\")\n",
    "\n",
    "    print_message(\"Pr(Head, Tail|Different instances)\", (p*(1-p)) / (2*p*(1-p)), cond_prob_head_tail)\n",
    "    print_message(\"Pr(Tail, Head|Different instances)\", (p*(1-p)) / (2*p*(1-p)), cond_prob_tail_head)"
   ]
  },
  {
   "cell_type": "markdown",
   "metadata": {},
   "source": [
    "## Task 2. Two coins, one fair and one biased: $Pr_{0}(Head) = 0.5$,  $Pr_{1}(Head) = 0.25$"
   ]
  },
  {
   "cell_type": "markdown",
   "metadata": {},
   "source": [
    "### Definitions"
   ]
  },
  {
   "cell_type": "markdown",
   "metadata": {},
   "source": [
    "For this task we  need a different sample generator. Our purpose is to generate pairs of outcomes $(X, Y)$ where $X$~$Bern(p_i)$ and $Y$~Bern($p_i$) for $i\\in\\{0,1\\}$. To do so, we first choose the $p_i$ randomly but fairly (i.e. both $p_0$ and $p_1$ are chosen with probability 0.5) and then use it 2 times to generate a pair of outcomes. We repeat this process $n$ times. In the end we are left with a sample (a sequence) of $2n$ outcomes ($n$ pairs put side by side). Also we keep track of which $p_i$ was used for each pair, using $0$ to represent $p_0$ and $1$ for $p_1$. "
   ]
  },
  {
   "cell_type": "code",
   "execution_count": 9,
   "metadata": {},
   "outputs": [],
   "source": [
    "def composite_bernoulli_sample(p0, p1, n):\n",
    "    \"\"\"Returns a sample of pairs of instances where each instance of the pair ~ Bernoulli(pi) and the probability used: 1 for p1 and 0 for p2. Before constructing a pair of instances, the probability pi for the pair is randomly selected among p1,p2\n",
    "      in a fair manner. The sample is constructed as a list of size 2n. The probabilities are a list of size n\"\"\"\n",
    "    \n",
    "    sample = []\n",
    "    probabilities = []\n",
    "    for i in range(n):\n",
    "        throw = random.random()\n",
    "        prob = (throw < 0.5)*p0 + (throw >= 0.5)*p1\n",
    "\n",
    "        sample.extend([1 if random.random() < prob else 0 for i in range(2)])\n",
    "        probabilities.extend([1 if prob == p1 else 0])\n",
    "\n",
    "    return sample, probabilities"
   ]
  },
  {
   "cell_type": "markdown",
   "metadata": {},
   "source": [
    "Given a sample of length $2n$ we can calculate the posterior probability: \n",
    "- $Pr(Coin \\, p_i \\, was \\, used | Outcome (0, 0) ) = \\frac{Pr(Coin \\, p_i \\, was \\, used \\,\\cap\\, Outcome \\, (0, 0) )}{Pr(Outcome \\, (0, 0) )} = \\frac{\\# pairs \\, where \\, coin \\, p_i \\, was \\, used}{\\# (0,0) \\, outcomes}$ etc."
   ]
  },
  {
   "cell_type": "code",
   "execution_count": 10,
   "metadata": {},
   "outputs": [],
   "source": [
    "def cond_prob_used_p_given_outcome(sample, probabilities, p_index, outcome):\n",
    "    \"\"\"Returns the posterior probability: P(p_index probability was used for the pair | the pair equals the outcome ).\n",
    "    \n",
    "    >>> sample = [1,0,1,0,0,0,1,1,0,1]\n",
    "    >>> probabilities = [1, 0, 1, 1,0]\n",
    "    >>> cond_prob_used_p_given_outcome(sample, probabilities, 1, (0,0))\n",
    "    1.0\n",
    "\n",
    "    >>> sample = [0,0,0,1,0,1,1,1,0,0]\n",
    "    >>> probabilities = [1, 0, 1, 0, 0]\n",
    "    >>> cond_prob_used_p_given_outcome(sample, probabilities, 0, (0,0))\n",
    "    0.5\n",
    "    \"\"\"\n",
    "    \n",
    "    size = len(sample)/2\n",
    "\n",
    "    x = sum(map(lambda i: i[0]==outcome[0] and i[1]==outcome[1] and i[2]==p_index, zip(sample[0::2], sample[1::2], probabilities)))/size  #prob of pairs where probability p_index was used for the pair & the pair equals the outcome\n",
    "    \n",
    "    p_succ_succ, p_succ_fail, p_fail_succ, p_fail_fail = prob_pairs(sample) \n",
    "    outcomes = {(1,1):p_succ_succ, (1,0):p_succ_fail, (0,1):p_fail_succ, (0,0): p_fail_fail}\n",
    "    y = outcomes[outcome]                                                                                                                 #prob of outcome pair\n",
    "\n",
    "    cond_prob_used_p_given_outcome = x/y                                                                                                  #P(p_index probability was used for the pair | the pair equals the outcome)\n",
    "    return cond_prob_used_p_given_outcome"
   ]
  },
  {
   "cell_type": "markdown",
   "metadata": {},
   "source": [
    "### Simulation"
   ]
  },
  {
   "cell_type": "markdown",
   "metadata": {},
   "source": [
    "We can now simulate the selection of a coin between a fair coin (with $Pr(Head)=p_0$) and a biased coin (with $Pr(Tail)=p_1$) randomly but fairly (i.e. both coins $p_0$ and $p_1$ are chosen with probability 0.5) which we flip 2 times to generate a pair of outcomes. We are going to perform 1000 such coin selections and flips (i.e. 1000 pairs or 2000 outcomes put side by side) and use this sample to calculate some actual probabilities (i.e. regarding the sample) and compare those to the respective theoretical probabilities.\n",
    "- Note that the expected (theoretical) probabilities used for the comparisons are as follows:\n",
    "    - $Pr((Tail, Tail)) = Pr((Tail, Tail) | Fair \\, coin) * Pr(Fair \\, coin) + Pr((Tail, Tail) | Biased \\, coin) * Pr(Biased \\, coin) = 0.5^{2} * 0.5 + 0.75^{2} * 0.5 \\approx 0.41$ due to the Law of Total Probability\n",
    "\n",
    "    - $Pr(Biased \\, coin| (Tail, Tail)) = \\frac{Pr((Tail, Tail) | Biased \\, coin)*Pr(Biased \\, coin)}{Pr(Tail, Tail)} \\approx \\frac{0.75^{2} * 0.5}{0.41} \\approx 0.69$ due to Bayes Theorem"
   ]
  },
  {
   "cell_type": "code",
   "execution_count": 11,
   "metadata": {},
   "outputs": [
    {
     "name": "stdout",
     "output_type": "stream",
     "text": [
      "> Report:\n",
      "Expected Pr(Tail, Tail)=0.41 \t Actual Pr(Tail, Tail)=0.43\n",
      "Expected Pr(Biased coin|(Tail, Tail))=0.69 \t Actual Pr(Biased coin|(Tail, Tail))=0.69\n"
     ]
    }
   ],
   "source": [
    "p0 = 0.5\n",
    "p1 = 0.25\n",
    "n = 1000\n",
    "\n",
    "sample, probabilities = composite_bernoulli_sample(p0, p1, n)\n",
    "_, _, _, prob_tail_tail = prob_pairs(sample)\n",
    "cond_prob_used_biased_given_tail_tail = cond_prob_used_p_given_outcome(sample, probabilities, 1, (0,0))\n",
    "\n",
    "print(\"> Report:\")\n",
    "\n",
    "print_message(\"Pr(Tail, Tail)\", (1-p0)**2*(0.5) + (1-p1)**2*(0.5), prob_tail_tail)\n",
    "print_message(\"Pr(Biased coin|(Tail, Tail))\", ((1-p1)**2 * 0.5)/((1-p0)**2*(0.5) + (1-p1)**2*(0.5)), cond_prob_used_biased_given_tail_tail)"
   ]
  }
 ],
 "metadata": {
  "kernelspec": {
   "display_name": "Python 3",
   "language": "python",
   "name": "python3"
  },
  "language_info": {
   "codemirror_mode": {
    "name": "ipython",
    "version": 3
   },
   "file_extension": ".py",
   "mimetype": "text/x-python",
   "name": "python",
   "nbconvert_exporter": "python",
   "pygments_lexer": "ipython3",
   "version": "3.10.9"
  }
 },
 "nbformat": 4,
 "nbformat_minor": 2
}
