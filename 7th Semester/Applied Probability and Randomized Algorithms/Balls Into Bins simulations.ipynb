{
 "cells": [
  {
   "cell_type": "markdown",
   "metadata": {},
   "source": [
    "# Applied Probabilities and Randomized Algorithms: Balls Into Bins Simulations\n",
    "Alviona Mancho | p3200098@aueb.gr"
   ]
  },
  {
   "cell_type": "markdown",
   "metadata": {},
   "source": [
    "## Preliminaries"
   ]
  },
  {
   "cell_type": "code",
   "execution_count": 4,
   "metadata": {},
   "outputs": [],
   "source": [
    "import random\n",
    "import math\n",
    "import numpy as np\n",
    "from collections import Counter\n",
    "import matplotlib.pyplot as plt"
   ]
  },
  {
   "cell_type": "code",
   "execution_count": 12,
   "metadata": {},
   "outputs": [],
   "source": [
    "def print_message(prob_str, expected_val, actual_val):\n",
    "    print(\"Expected {0}={1:.5f}\\nActual {0}={2:.5f}\\n\".format(prob_str, expected_val, actual_val))"
   ]
  },
  {
   "cell_type": "markdown",
   "metadata": {},
   "source": [
    "#### Function for the estimated probability of an event given a sample"
   ]
  },
  {
   "cell_type": "code",
   "execution_count": 5,
   "metadata": {},
   "outputs": [],
   "source": [
    "def prob_event(sample, event):\n",
    "    \"\"\"Returns the estimated probability of event A in a sample, where A is a set of elementary events\n",
    "    >>> sample = [1,2,4,2,2,3,5,3,6,1]\n",
    "    >>> prob_event(sample, {2,3})\n",
    "    0.5\n",
    "    \"\"\"\n",
    "    size = len(sample)\n",
    "    count = Counter(sample)\n",
    "    count_event = sum(value for key, value in count.items() if key in event)\n",
    "    prob_event = count_event/size\n",
    "    return prob_event"
   ]
  },
  {
   "cell_type": "markdown",
   "metadata": {},
   "source": [
    "#### Function for the estimated conditional expected value given a sample and a condition (event)"
   ]
  },
  {
   "cell_type": "code",
   "execution_count": 6,
   "metadata": {},
   "outputs": [],
   "source": [
    "def cond_expected_value(sample, event):\n",
    "    \"\"\"Returns the estimated conditional expected value given a sample and the condition (event). If the event given is the empty set {}, then it returns the estimated expected value\n",
    "    >>> sample = [1,2,3,4,5,6]\n",
    "    >>> cond_expected_value(sample, {})\n",
    "    3.5\n",
    "    \"\"\"\n",
    "    size = len(sample)\n",
    "    if(len(event) == 0):\n",
    "        p_event = 1\n",
    "    else:\n",
    "        p_event = prob_event(sample, event)\n",
    "    count = Counter(sample)\n",
    "    \n",
    "    cond_expected_val = sum(key*(value/size)/p_event for key, value in count.items() if len(event)==0 or key in event)\n",
    "    return cond_expected_val"
   ]
  },
  {
   "cell_type": "markdown",
   "metadata": {},
   "source": [
    "## Birthday Paradox"
   ]
  },
  {
   "cell_type": "markdown",
   "metadata": {},
   "source": [
    "Assume that $m$ people are in the same room, and their birthdays are independent and uniformly distributed throughout the year.\n",
    "We will record the number of pairs that share the same birthday. Specifically, for $m=20,30,40$ we will execute this process for 200 consecutive iterations and estimate the probability of having at least one pair with the same birthday, as well as the average count of such pairs. Lastly, we will compare our results with the theoretically predicted ones:\n",
    "\n",
    "For a given $m$:\n",
    "\n",
    "- $Pr(\\textit{\\# of pairs with the same birthday} >= 1) = 1 - Pr(\\textit{\\# of pairs with the same birthday} = 0)$ \n",
    "$$= 1 - \\frac{365}{365}*\\frac{364}{365}*...*\\frac{365-m+1}{365} = 1 - \\frac{365!}{365^m * (365-m)!}$$ \n",
    "\n",
    "- If $X=\\textit{\\# of pairs with the same birthday}$ then:\n",
    "\n",
    "    $E(X) = \\sum_{(i,j)}{E(X_{(i,j)})} = \\sum_{(i,j)}{\\frac{1}{365}} = \\binom{m}{2} * \\frac{1}{365} = \\frac{m*(m-1)}{2*365}$ \n"
   ]
  },
  {
   "cell_type": "code",
   "execution_count": 17,
   "metadata": {},
   "outputs": [],
   "source": [
    "def generate_birthdays(num_people):\n",
    "    \"\"\"Generates random birthdays for the given number of people. Returns a list of integers in the interval [1,365]\"\"\"\n",
    "    return [random.randint(1, 365) for _ in range(num_people)]"
   ]
  },
  {
   "cell_type": "code",
   "execution_count": 19,
   "metadata": {},
   "outputs": [
    {
     "name": "stdout",
     "output_type": "stream",
     "text": [
      "M = 20 people\n",
      "Expected Pr(# of pairs with the same birthday >= 1)=0.41144\n",
      "Actual Pr(# of pairs with the same birthday >= 1)=0.40500\n",
      "\n",
      "Expected E(# of pairs that share the same birthday)=0.52055\n",
      "Actual E(# of pairs that share the same birthday)=0.52000\n",
      "\n",
      "\n",
      "M = 30 people\n",
      "Expected Pr(# of pairs with the same birthday >= 1)=0.70632\n",
      "Actual Pr(# of pairs with the same birthday >= 1)=0.72500\n",
      "\n",
      "Expected E(# of pairs that share the same birthday)=1.19178\n",
      "Actual E(# of pairs that share the same birthday)=1.23000\n",
      "\n",
      "\n",
      "M = 40 people\n",
      "Expected Pr(# of pairs with the same birthday >= 1)=0.89123\n",
      "Actual Pr(# of pairs with the same birthday >= 1)=0.85500\n",
      "\n",
      "Expected E(# of pairs that share the same birthday)=2.13699\n",
      "Actual E(# of pairs that share the same birthday)=2.06000\n",
      "\n",
      "\n"
     ]
    }
   ],
   "source": [
    "M = [20,30,40]\n",
    "iters = 200\n",
    "\n",
    "for m in M:\n",
    "    num_pairs_same_birthday = [0]*iters\n",
    "    for i in range(iters):\n",
    "        birthdays = generate_birthdays(m)\n",
    "\n",
    "        for first in range(len(birthdays)):\n",
    "            for second in range(first+1, len(birthdays)):\n",
    "                if(birthdays[first]==birthdays[second]):\n",
    "                    num_pairs_same_birthday[i] += 1\n",
    "\n",
    "    print(\"M = {0} people\".format(m))\n",
    "    prob_same_birthday = sum(pair_count >= 1 for pair_count in num_pairs_same_birthday)/iters\n",
    "    print_message('Pr(# of pairs with the same birthday >= 1)', 1-math.factorial(365)/(365**m*math.factorial(365-m)), prob_same_birthday)\n",
    "    print_message('E(# of pairs that share the same birthday)', m*(m-1)/(2*365), cond_expected_value(num_pairs_same_birthday, {}))\n",
    "    print()\n",
    "            "
   ]
  },
  {
   "cell_type": "markdown",
   "metadata": {},
   "source": [
    "Observations:\n",
    "1. All results are close enough to the theoretically predicted ones, as expected. In case we increased the number of iterations (which is currently 200) we would observe even greater convergence. \n",
    "\n",
    "2. As $m$ increases, the probability $Pr(\\textit{\\# of pairs with the same birthday} >= 1)$ increases. We can conclude that for some $20 < m < 30$ this probability becomes $\\approx 0.5$. It is known from theory that the least number of people that need to be in a room for this probability to be at least $0.5$ is $23$.\n",
    "\n",
    "3. As $m$ increases, the expected value $E(X)$ of the number of pairs with the same birthday increases as well. We can conclude that for some $20 < m < 30$ this expected value becomes $\\approx 1$. It is known from theory that the least number of people that need to be in a room for this expected value to be at least $1$ is $28$.\n",
    "\n",
    "These numbers ($23$ or $28$, depending on the metric) are much smaller than what would someone anticipate, which is why this problem is called \"The Birthday Paradox\"."
   ]
  },
  {
   "cell_type": "markdown",
   "metadata": {},
   "source": [
    "## Balls Into Bins"
   ]
  },
  {
   "cell_type": "markdown",
   "metadata": {},
   "source": [
    "The balls into bins (or balanced allocations) problem is a classic problem in probability theory that has many applications in computer science. The problem involves $m$ balls and $n$ boxes (or \"bins\"). Each time, a single ball is placed into one of the bins.\n",
    "\n",
    "[Wikipedia - Balls Into Bins](https://en.wikipedia.org/wiki/Balls_into_bins_problem)"
   ]
  },
  {
   "cell_type": "markdown",
   "metadata": {},
   "source": [
    "### Definition"
   ]
  },
  {
   "cell_type": "code",
   "execution_count": 13,
   "metadata": {},
   "outputs": [],
   "source": [
    "def balls_and_bins(bins, balls, iters, reduced_randomization = False):\n",
    "    def one_random_bin(bins):\n",
    "        rand_bin = random.randint(0, bins-1)\n",
    "        return rand_bin\n",
    "    \n",
    "    def two_random_bins(bins):\n",
    "        random_bins = random.sample(range(0, bins), 2)\n",
    "        rand_bin_1 = random_bins[0]\n",
    "        rand_bin_2 = random_bins[1]\n",
    "\n",
    "        if balls_in_bins[rand_bin_1] < balls_in_bins[rand_bin_2]:\n",
    "            return rand_bin_1\n",
    "        elif balls_in_bins[rand_bin_2] < balls_in_bins[rand_bin_1]:\n",
    "            return rand_bin_2\n",
    "        else:\n",
    "            if random.random() < 0.5:\n",
    "                return rand_bin_1\n",
    "            else:\n",
    "                return rand_bin_2\n",
    "\n",
    "    # Determine the way to choose a bin each time (one random bin or two random bins)\n",
    "    choose_bin = one_random_bin\n",
    "    if reduced_randomization:\n",
    "        choose_bin = two_random_bins\n",
    "\n",
    "    empty = list()\n",
    "    two_or_more_balls = list()\n",
    "    max_balls = list()\n",
    "\n",
    "    for iter in range(iters):\n",
    "        balls_in_bins = [0]*bins\n",
    "        for ball in range(balls):\n",
    "            rand_bin = choose_bin(bins)\n",
    "            balls_in_bins[rand_bin] += 1\n",
    "\n",
    "        num_empty = sum(balls == 0 for balls in balls_in_bins)\n",
    "        num_two_or_more_balls = sum(balls >= 2 for balls in balls_in_bins)\n",
    "        num_max_balls = max(balls_in_bins)\n",
    "\n",
    "        if(iter<10):\n",
    "            # Show statistics per iteration\n",
    "            print(\"Iteration\", iter+1)\n",
    "            print(\"% of empty bins\", num_empty/bins)\n",
    "            print(\"% of bins with 2 or more balls\", num_two_or_more_balls/bins)\n",
    "            print(\"Maximum number of balls \", num_max_balls)\n",
    "            print()\n",
    "\n",
    "        # Store the number of empty bins, the number of bins with 2 or more balls and the maximum number of balls that fell into a bin,\n",
    "        # to be able to calculate the mean for each one of them after the last iteration\n",
    "        empty.append(num_empty)\n",
    "        two_or_more_balls.append(num_two_or_more_balls)\n",
    "        max_balls.append(num_max_balls)\n",
    "\n",
    "    return empty, two_or_more_balls, max_balls"
   ]
  },
  {
   "cell_type": "markdown",
   "metadata": {},
   "source": [
    "### Simulation for when each ball is placed in a randomly selected bin"
   ]
  },
  {
   "cell_type": "markdown",
   "metadata": {},
   "source": [
    "Let's assume that we have $n=100$ bins and an equal number $m=100$ of balls, each of which is placed in a randomly selected bin. \n",
    "\n",
    "a. We will simulate the process of successive placement of all balls in bins. We will execute 200 consecutive repetitions of this process and estimate, in each of them:\n",
    "\n",
    "- the percentage of bins remaining empty at the end (i.e., not selected by any ball),\n",
    "- the percentage of bins containing 2 or more balls, and\n",
    "- the maximum number of balls in a bin.\n",
    "\n",
    "b. Then, for each of these measures, we will estimate the mean value from the 200 repetitions and compare our results with the theoretically expected values. Note that we will estimate the mean for the absolute numbers but the percentages can be easily obtained by dividing by the number of iterations.\n",
    "\n",
    "- $Ε(\\textit{number of bins that remained empty}) = n * Pr(\\textit{empty bin}) = n*(1-\\frac{1}{n})^m$\n",
    "    - Why? Let $X_i = \\begin{cases}\n",
    "      1,\\; if\\; bin_i\\; is\\; empty \\\\\n",
    "      0,\\; otherwise\n",
    "      \\end{cases}$. That is, $X_i$~$Bernoulli(p)$, where $p=(1-\\frac{1}{n})^m$\n",
    "\n",
    "      Then $E(X) = E(\\sum_{i=1}^n{X_i}) = \\sum_{i=1}^n{E(X_i)} = \\sum_{i=1}^n{p} = n*p$\n",
    "        \n",
    "\n",
    "- $E(\\textit{number of bins with} \\geq \\textit{2 balls}) = n * (1-Pr(\\textit{bin with} \\leq \\textit{1 balls})) =  n * (1-Pr(\\textit{empty bin}) - Pr(\\textit{bin with 1 ball})) = n * (1- (1-\\frac{1}{n})^m - n*\\frac{1}{n}*(1-\\frac{1}{n})^{m-1}) = n * (1- (1-\\frac{1}{n})^m - (1-\\frac{1}{n})^{m-1})$\n",
    "\n",
    "\n",
    "- $E(\\textit{max load}) = \\frac{ln(n)}{lnln(n)} + \\mathcal{O}(1)$\n",
    "\n",
    "\n",
    "c. Especially for the maximum number of balls in a bin, we will, also, observe the range of values within which it is likely to vary, and compare this result with the theoretically expected one:\n",
    "\n",
    "- It is known that $Pr(bin_i \\geq k\\; balls) \\leq (\\frac{e}{k})^k$ (using the Chernoff bound we can obtain this upper bound). Hence, $Pr(max \\geq k\\; balls) \\leq \\sum_{i=1}^n{Pr(bin_i \\geq k\\; balls)} \\leq n*(\\frac{e}{k})^k$ (using the Union bound and the previous result). \n",
    "If we want to make this probability equal $\\frac{1}{n}$, which is small enough, we should take a $k$ s.t. $(\\frac{e}{k})^k = \\frac{1}{n^2} \\Rightarrow ... \\Rightarrow k=\\frac{3ln(n)}{ln(ln(n))}$.\n",
    "\n",
    "  That is, $Pr(max \\geq \\frac{3ln(n)}{lnln(n)}\\; balls) \\leq \\frac{1}{n} \\Rightarrow Pr(max < \\frac{3ln(n)}{lnln(n)}\\; balls) \\geq 1- \\frac{1}{n}$\n",
    "\n",
    "- If $X=\\textit{\\# of balls in a bin}$ then $E(X)=\\frac{m}{n}$. That is, $\\textit{max load}$ is at least $\\frac{m}{n}\\; balls$"
   ]
  },
  {
   "cell_type": "code",
   "execution_count": 14,
   "metadata": {},
   "outputs": [
    {
     "name": "stdout",
     "output_type": "stream",
     "text": [
      "Iteration 1\n",
      "% of empty bins 0.32\n",
      "% of bins with 2 or more balls 0.26\n",
      "Maximum number of balls  4\n",
      "\n",
      "Iteration 2\n",
      "% of empty bins 0.38\n",
      "% of bins with 2 or more balls 0.28\n",
      "Maximum number of balls  4\n",
      "\n",
      "Iteration 3\n",
      "% of empty bins 0.32\n",
      "% of bins with 2 or more balls 0.23\n",
      "Maximum number of balls  4\n",
      "\n",
      "Iteration 4\n",
      "% of empty bins 0.37\n",
      "% of bins with 2 or more balls 0.28\n",
      "Maximum number of balls  4\n",
      "\n",
      "Iteration 5\n",
      "% of empty bins 0.35\n",
      "% of bins with 2 or more balls 0.27\n",
      "Maximum number of balls  3\n",
      "\n",
      "Iteration 6\n",
      "% of empty bins 0.31\n",
      "% of bins with 2 or more balls 0.22\n",
      "Maximum number of balls  4\n",
      "\n",
      "Iteration 7\n",
      "% of empty bins 0.37\n",
      "% of bins with 2 or more balls 0.28\n",
      "Maximum number of balls  4\n",
      "\n",
      "Iteration 8\n",
      "% of empty bins 0.42\n",
      "% of bins with 2 or more balls 0.28\n",
      "Maximum number of balls  4\n",
      "\n",
      "Iteration 9\n",
      "% of empty bins 0.34\n",
      "% of bins with 2 or more balls 0.22\n",
      "Maximum number of balls  4\n",
      "\n",
      "Iteration 10\n",
      "% of empty bins 0.34\n",
      "% of bins with 2 or more balls 0.27\n",
      "Maximum number of balls  4\n",
      "\n",
      "Expected E(number of bins that remained empty)=36.60323\n",
      "Actual E(number of bins that remained empty)=36.54000\n",
      "\n",
      "Expected E(number of bins with >=2 balls)=26.42380\n",
      "Actual E(number of bins with >=2 balls)=26.38000\n",
      "\n",
      "Expected E(maximum number of balls in a bin)=3.01547\n",
      "Actual E(maximum number of balls in a bin)=4.19000\n",
      "\n",
      "\n",
      "The maximum number of balls in a bin is more than 1.000 = lower\n",
      "The maximum number of balls in a bin is less than 9.046 = upper w.h.p.\n",
      "In this execution, the estimation for Pr(maximum number of balls in a bin < upper) was 1.000\n"
     ]
    }
   ],
   "source": [
    "n = 100 # bins\n",
    "m = 100 # balls\n",
    "\n",
    "iters = 200\n",
    "\n",
    "# Conduct the simulation\n",
    "empty, two_or_more_balls, max_balls = balls_and_bins(n, m, iters)\n",
    "\n",
    "# Calculate the means\n",
    "print_message(\"E(number of bins that remained empty)\", n*(1-1/n)**m, cond_expected_value(empty, {}))\n",
    "print_message(\"E(number of bins with >=2 balls)\", n*(1-(1-1/n)**m-(1-1/n)**(m-1)), cond_expected_value(two_or_more_balls, {}))\n",
    "print_message(\"E(maximum number of balls in a bin)\", math.log(n)/math.log(math.log(n)), cond_expected_value(max_balls, {}))\n",
    "\n",
    "print()\n",
    "print(\"The maximum number of balls in a bin is more than {0:.3f} = lower\".format(m/n))\n",
    "print(\"The maximum number of balls in a bin is less than {0:.3f} = upper w.h.p.\".format(3*math.log(n)/math.log(math.log(n))))\n",
    "print(\"In this execution, the estimation for Pr(maximum number of balls in a bin < upper) was {0:.3f}\".format(sum(x<3*math.log(n)/math.log(math.log(n)) for x in max_balls)/iters))"
   ]
  },
  {
   "cell_type": "markdown",
   "metadata": {},
   "source": [
    "We can observe that the results are very close to the theoretically expected ones. Note that $E(\\textit{max load}) = \\frac{ln(n)}{lnln(n)} + \\mathcal{O}(1)$ is an asymptotic result and not a closed-form formula, hence our result is not in exact accordance with the formula (but it is of the same order). Also, we can observe that the probability that the maximum number of balls in a bin is less than $\\frac{3ln(n)}{ln(ln(n))} \\approx 9.046$ is indeed estimated to be very high."
   ]
  },
  {
   "cell_type": "markdown",
   "metadata": {},
   "source": [
    "### Simulation for when each ball is placed in the bin with the fewest balls out of two randomly selected bins (partially random allocation)"
   ]
  },
  {
   "cell_type": "markdown",
   "metadata": {},
   "source": [
    "Next, we modify the program so that the placement process occurs as follows: for each ball, two bins are randomly selected, and the ball is placed in the bin (from the two selected) that currently contains the fewest balls. If the two bins have an equal number of balls, then one of them is randomly chosen. We will compare the new results for the maximum number of balls in a bin with those obtained previously."
   ]
  },
  {
   "cell_type": "markdown",
   "metadata": {},
   "source": [
    "- In this case, $E(\\textit{max load}) = \\frac{lnln(n)}{ln2} + \\mathcal{O}(1)$"
   ]
  },
  {
   "cell_type": "code",
   "execution_count": 15,
   "metadata": {},
   "outputs": [
    {
     "name": "stdout",
     "output_type": "stream",
     "text": [
      "Iteration 1\n",
      "% of empty bins 0.21\n",
      "% of bins with 2 or more balls 0.21\n",
      "Maximum number of balls  2\n",
      "\n",
      "Iteration 2\n",
      "% of empty bins 0.21\n",
      "% of bins with 2 or more balls 0.21\n",
      "Maximum number of balls  2\n",
      "\n",
      "Iteration 3\n",
      "% of empty bins 0.25\n",
      "% of bins with 2 or more balls 0.25\n",
      "Maximum number of balls  2\n",
      "\n",
      "Iteration 4\n",
      "% of empty bins 0.21\n",
      "% of bins with 2 or more balls 0.2\n",
      "Maximum number of balls  3\n",
      "\n",
      "Iteration 5\n",
      "% of empty bins 0.26\n",
      "% of bins with 2 or more balls 0.25\n",
      "Maximum number of balls  3\n",
      "\n",
      "Iteration 6\n",
      "% of empty bins 0.23\n",
      "% of bins with 2 or more balls 0.22\n",
      "Maximum number of balls  3\n",
      "\n",
      "Iteration 7\n",
      "% of empty bins 0.27\n",
      "% of bins with 2 or more balls 0.26\n",
      "Maximum number of balls  3\n",
      "\n",
      "Iteration 8\n",
      "% of empty bins 0.21\n",
      "% of bins with 2 or more balls 0.21\n",
      "Maximum number of balls  2\n",
      "\n",
      "Iteration 9\n",
      "% of empty bins 0.3\n",
      "% of bins with 2 or more balls 0.29\n",
      "Maximum number of balls  3\n",
      "\n",
      "Iteration 10\n",
      "% of empty bins 0.19\n",
      "% of bins with 2 or more balls 0.19\n",
      "Maximum number of balls  2\n",
      "\n",
      "Actual E(number of bins that remained empty) = 23.23000\n",
      "Actual E(number of bins with >=2 balls) = 22.36500\n",
      "\n",
      "Expected E(maximum number of balls in a bin)=2.20325\n",
      "Actual E(maximum number of balls in a bin)=2.55500\n",
      "\n"
     ]
    }
   ],
   "source": [
    "n = 100 # bins\n",
    "m = 100 # balls\n",
    "\n",
    "iters = 200\n",
    "\n",
    "# Conduct the simulation\n",
    "empty, two_or_more_balls, max_balls = balls_and_bins(n, m, iters, reduced_randomization=True)\n",
    "\n",
    "# Calculate the means\n",
    "print(\"Actual E(number of bins that remained empty) = {0:.5f}\".format(cond_expected_value(empty, {})))\n",
    "print(\"Actual E(number of bins with >=2 balls) = {0:.5f}\\n\".format(cond_expected_value(two_or_more_balls, {})))\n",
    "print_message(\"E(maximum number of balls in a bin)\", math.log(math.log(n))/math.log(2), cond_expected_value(max_balls, {}))"
   ]
  },
  {
   "cell_type": "markdown",
   "metadata": {},
   "source": [
    "Note that $E(\\textit{max load}) = \\frac{lnln(n)}{ln(2)} + \\mathcal{O}(1)$ is an asymptotic result and not a closed-form formula, hence our result is not in exact accordance with the formula (but it is of the same order). In comparison to the previous case, we introduce a limitation on randomness. In the previous scenario, we randomly selected the bin where the next ball would be placed. Now, however, we randomly choose 2 bins and deterministically select the best option between them (i.e. the bin with the smallest load so far). This results in a significant improvement in the expected value for the maximum load in the partial allocation ($\\frac{lnln(n)}{ln(2)} + \\mathcal{O}(1)$), which is almost exponentially less than with a completely random allocation ($\\frac{ln(n)}{lnln(n)} + \\mathcal{O}(1)$)!\n",
    "\n",
    "Moreover, we observe that both the mean number (and consequently, the percentage) of empty bins and the mean number of bins with at least 2 balls have decreased. This indicates a more balanced load than before, considering that the ideal balance is achieved when each bin contains exactly 1 ball (for $m=n$)."
   ]
  },
  {
   "cell_type": "markdown",
   "metadata": {},
   "source": [
    "### Simulation for $m\\approx3n*(log_2n)$ - Heavy loaded case"
   ]
  },
  {
   "cell_type": "markdown",
   "metadata": {},
   "source": [
    "Let $n=100$ as before, and $m=4000\\approx3n*(log_2n)$. We will run the simulation again.\n",
    "\n",
    "In this case:\n",
    "- $E(\\textit{max load}) = \\frac{m}{n} + \\Theta(\\sqrt{\\frac{m*ln(n)}{n}})$\n",
    "- $Pr(max < \\frac{em}{n}\\; balls) \\geq 1- \\frac{1}{n}$   (using Chernoff bound and union bound, proof details omitted here)"
   ]
  },
  {
   "cell_type": "code",
   "execution_count": 16,
   "metadata": {},
   "outputs": [
    {
     "name": "stdout",
     "output_type": "stream",
     "text": [
      "Iteration 1\n",
      "% of empty bins 0.0\n",
      "% of bins with 2 or more balls 1.0\n",
      "Maximum number of balls  51\n",
      "\n",
      "Iteration 2\n",
      "% of empty bins 0.0\n",
      "% of bins with 2 or more balls 1.0\n",
      "Maximum number of balls  54\n",
      "\n",
      "Iteration 3\n",
      "% of empty bins 0.0\n",
      "% of bins with 2 or more balls 1.0\n",
      "Maximum number of balls  55\n",
      "\n",
      "Iteration 4\n",
      "% of empty bins 0.0\n",
      "% of bins with 2 or more balls 1.0\n",
      "Maximum number of balls  57\n",
      "\n",
      "Iteration 5\n",
      "% of empty bins 0.0\n",
      "% of bins with 2 or more balls 1.0\n",
      "Maximum number of balls  54\n",
      "\n",
      "Iteration 6\n",
      "% of empty bins 0.0\n",
      "% of bins with 2 or more balls 1.0\n",
      "Maximum number of balls  58\n",
      "\n",
      "Iteration 7\n",
      "% of empty bins 0.0\n",
      "% of bins with 2 or more balls 1.0\n",
      "Maximum number of balls  59\n",
      "\n",
      "Iteration 8\n",
      "% of empty bins 0.0\n",
      "% of bins with 2 or more balls 1.0\n",
      "Maximum number of balls  56\n",
      "\n",
      "Iteration 9\n",
      "% of empty bins 0.0\n",
      "% of bins with 2 or more balls 1.0\n",
      "Maximum number of balls  54\n",
      "\n",
      "Iteration 10\n",
      "% of empty bins 0.0\n",
      "% of bins with 2 or more balls 1.0\n",
      "Maximum number of balls  56\n",
      "\n",
      "Expected E(number of bins that remained empty)=0.00000\n",
      "Actual E(number of bins that remained empty)=0.00000\n",
      "\n",
      "Expected E(number of bins with >=2 balls)=100.00000\n",
      "Actual E(number of bins with >=2 balls)=100.00000\n",
      "\n",
      "Expected E(maximum number of balls in a bin)=53.57228\n",
      "Actual E(maximum number of balls in a bin)=56.50000\n",
      "\n",
      "\n",
      "The maximum number of balls in a bin is more than 40.000 = lower\n",
      "The maximum number of balls in a bin is less than 108.731 = upper w.h.p.\n",
      "In this execution, the estimation for Pr(maximum number of balls in a bin < upper) was 1.000\n"
     ]
    }
   ],
   "source": [
    "n = 100 # bins\n",
    "m = 4000 # balls\n",
    "\n",
    "iters = 200\n",
    "\n",
    "# Conduct the simulation\n",
    "empty, two_or_more_balls, max_balls = balls_and_bins(n, m, iters)\n",
    "\n",
    "# Calculate the means\n",
    "print_message(\"E(number of bins that remained empty)\", n*(1-1/n)**m, cond_expected_value(empty, {}))\n",
    "print_message(\"E(number of bins with >=2 balls)\", n*(1-(1-1/n)**m-(1-1/n)**(m-1)), cond_expected_value(two_or_more_balls, {}))\n",
    "print_message(\"E(maximum number of balls in a bin)\", m/n+math.sqrt(m*math.log(n)/n), cond_expected_value(max_balls, {}))\n",
    "\n",
    "print()\n",
    "print(\"The maximum number of balls in a bin is more than {0:.3f} = lower\".format(m/n))\n",
    "print(\"The maximum number of balls in a bin is less than {0:.3f} = upper w.h.p.\".format(math.e*m/n))\n",
    "print(\"In this execution, the estimation for Pr(maximum number of balls in a bin < upper) was {0:.3f}\".format(sum(x<math.e*m/n for x in max_balls)/iters))"
   ]
  },
  {
   "cell_type": "markdown",
   "metadata": {},
   "source": [
    "Note that again $E(\\textit{max load}) = \\frac{m}{n} + \\Theta(\\sqrt{\\frac{m*ln(n)}{n}})$ is an asymptotic result and not a closed-form formula.\n",
    "\n",
    "We observe that the results are very close to the theoretically expected ones.\n",
    "\n",
    "Moreover, no bins remained empty in the heavy loaded case simulation, and all bins got at least 2 balls, which was totally expected."
   ]
  },
  {
   "cell_type": "markdown",
   "metadata": {},
   "source": [
    "## Coupon Collector"
   ]
  },
  {
   "cell_type": "markdown",
   "metadata": {},
   "source": [
    "We can view the problem of the coupon collector as follows: Let's assume that we have $n=100$ boxes (the types of coupons) and an unlimited number of balls (the 'attempts'), which are placed one by one in a randomly selected box each. We will simulate the process of successive ball placement in boxes, which stops when all boxes contain at least one ball (i.e. the collector has collected all types of coupons). \n",
    "\n",
    "We will execute 200 consecutive repetitions of this process and record, in each iteration, the number of 'attempts' required to achieve the above goal. Then, we will estimate the mean value of this and compare this result with the theoretically expected one:\n",
    "\n",
    "For a given number $n$ of boxes/coupons types:\n",
    "- If $X=\\textit{\\# of attempts}$, then it is known that $E(X) = n*(ln(n) + \\gamma)$, where $\\gamma$ is the Euler-Mascheroni constant.\n",
    "\n",
    "Moreover,\n",
    "- If $Y= \\textit{\\# of attempts till no bin is empty}$, then, by Chebyshev inequality, $Pr(|Y − E(Y)| \\geq c) \\leq \\frac{c^2}{VAR(Y)}$\n",
    "    - $VAR(Y) = n^2\\frac{\\pi^2}{6} - n(ln(n) + \\gamma)$ (proof omitted here)\n",
    "    - Therefore, for $c=(\\lambda +\\mathcal{O}(1))n$, we can obtain $Pr(|Y − E(Y)| \\geq c) \\leq \\frac{c^2}{VAR(Y)} \\leq ... \\leq \\frac{1}{\\lambda}$\n",
    "\n",
    "    This implies that the value of Y is highly concentrated around its mean!"
   ]
  },
  {
   "cell_type": "code",
   "execution_count": 471,
   "metadata": {},
   "outputs": [],
   "source": [
    "def collect_coupons(coupons):\n",
    "    # At first all boxes are empty/no coupons collected\n",
    "    coupons_collected_per_type = [0]*coupons\n",
    "\n",
    "    # While there are empty boxes/uncollected coupons, keep trying\n",
    "    while any(element == 0 for element in coupons_collected_per_type):  \n",
    "        rand_coupon = random.randint(0, coupons-1)\n",
    "        coupons_collected_per_type[rand_coupon] += 1\n",
    "        \n",
    "    # Return the number of attempts\n",
    "    return sum(coupons_collected_per_type)"
   ]
  },
  {
   "cell_type": "code",
   "execution_count": 472,
   "metadata": {},
   "outputs": [
    {
     "name": "stdout",
     "output_type": "stream",
     "text": [
      "Expected E(attempts)=518.23859 \t Actual E(attempts)=519.47000\n"
     ]
    },
    {
     "data": {
      "image/png": "[encoded data removed]",
      "text/plain": [
       "<Figure size 640x480 with 1 Axes>"
      ]
     },
     "metadata": {},
     "output_type": "display_data"
    }
   ],
   "source": [
    "coupons = 100\n",
    "iters = 200\n",
    "\n",
    "attempts_list = list()\n",
    "for iter in range(iters):\n",
    "    attempts_list.append(collect_coupons(coupons))\n",
    "\n",
    "print_message(\"E(attempts)\",100*(math.log(100) + np.euler_gamma), cond_expected_value(attempts_list, {}))\n",
    "\n",
    "#Plot a 1D scatterplot showing the sample distribution of the number of attempts\n",
    "plt.plot(attempts_list, [0]*len(attempts_list), 'o', color='purple', alpha=0.1, ms='10')\n",
    "plt.suptitle('Coupons Collector Problem', y=1.03)\n",
    "plt.title(r'Sample distribution of the number of attempts needed to collect all coupons')\n",
    "plt.xlabel(r'$\\# of\\; attempts$')\n",
    "plt.ylim(-1,1)\n",
    "plt.axvline(x=100*(math.log(100) + np.euler_gamma), color='black', linestyle='--')\n",
    "plt.yticks([])\n",
    "\n",
    "plt.show()"
   ]
  },
  {
   "cell_type": "markdown",
   "metadata": {},
   "source": [
    "We can observe that the result is very close to the theoretically expected one. \n",
    "\n",
    "Moreover, the numbers of attempts are indeed highly concentrated around the expected value $\\approx 518$ (dashed line above)."
   ]
  }
 ],
 "metadata": {
  "kernelspec": {
   "display_name": "Python 3",
   "language": "python",
   "name": "python3"
  },
  "language_info": {
   "codemirror_mode": {
    "name": "ipython",
    "version": 3
   },
   "file_extension": ".py",
   "mimetype": "text/x-python",
   "name": "python",
   "nbconvert_exporter": "python",
   "pygments_lexer": "ipython3",
   "version": "3.10.9"
  }
 },
 "nbformat": 4,
 "nbformat_minor": 2
}
